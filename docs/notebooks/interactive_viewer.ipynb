{
 "cells": [
  {
   "cell_type": "markdown",
   "id": "df586f3d",
   "metadata": {},
   "source": [
    "!!! note\n",
    "\n",
    "    This example is available as a jupyter notebook [here](https://github.com/simon-bachhuber/ring/blob/main/docs/notebooks/interactive_viewer.ipynb)."
   ]
  },
  {
   "cell_type": "markdown",
   "id": "38be3888",
   "metadata": {},
   "source": [
    "With the release of `imt-ring` >= `v1.7.0`, a CLI tool `ring-view` has been added.\n",
    "\n",
    ">$ ring-view --help\n",
    "```bash\n",
    "NAME\n",
    "    ring-view - View motion given by trajectory of minimal coordinates in interactive viewer.\n",
    "\n",
    "SYNOPSIS\n",
    "    ring-view PATH_SYS_XML <flags>\n",
    "\n",
    "DESCRIPTION\n",
    "    View motion given by trajectory of minimal coordinates in interactive viewer.\n",
    "\n",
    "POSITIONAL ARGUMENTS\n",
    "    PATH_SYS_XML\n",
    "        Type: str\n",
    "        Path to xml file defining the system.\n",
    "\n",
    "FLAGS\n",
    "    -p, --path_qs_np=PATH_QS_NP\n",
    "        Type: Optional[Optional]\n",
    "        Default: None\n",
    "        Path to numpy array containing the timeseries of minimal coordinates with shape (T, DOF) where DOF is equal to `sys.q_size()`. Each minimal coordiante is from parent to child. So for example a `spherical` joint that connects the first body to the worldbody has a minimal coordinate of a quaternion that gives from worldbody to first body. The sampling rate of the motion is inferred from the `sys.dt` attribute. If `None` (default), then simply renders the unarticulated pose of the system.\n",
    "    Additional flags are accepted.\n",
    "```"
   ]
  },
  {
   "cell_type": "markdown",
   "id": "4b0c2992",
   "metadata": {},
   "source": [
    "Suppose, we have the following system stored in `pendulum.xml`\n",
    "```xml\n",
    "<x_xy model=\"double_pendulum\">\n",
    "    <options gravity=\"0 0 9.81\" dt=\"0.01\"/>\n",
    "    <worldbody>\n",
    "        <body name=\"upper\" euler=\"0 90 0\" joint=\"ry\" damping=\"2\" pos=\"0 0 2\">\n",
    "            <geom type=\"box\" mass=\"10\" pos=\"0.5 0 0\" dim=\"1 0.25 0.2\"/>\n",
    "            <body name=\"lower\" pos=\"1 0 0\" joint=\"ry\" damping=\"2\">\n",
    "                <geom type=\"box\" mass=\"10\" pos=\"0.5 0 0\" dim=\"1 0.25 0.2\"/>\n",
    "            </body>\n",
    "        </body>\n",
    "    </worldbody>\n",
    "</x_xy>\n",
    "```"
   ]
  },
  {
   "cell_type": "markdown",
   "id": "f0414928",
   "metadata": {},
   "source": [
    "Then, we can directly execute and create an interactive view of the system using `ring-view pendulum.xml`\n",
    "Alternatively, we can also work with the `InteractiveViewer` class."
   ]
  },
  {
   "cell_type": "code",
   "execution_count": 19,
   "id": "59c89736",
   "metadata": {},
   "outputs": [],
   "source": [
    "from ring.extras.interactive_viewer import InteractiveViewer\n",
    "import ring\n",
    "import numpy as np"
   ]
  },
  {
   "cell_type": "code",
   "execution_count": 3,
   "id": "df5bb3b8",
   "metadata": {},
   "outputs": [],
   "source": [
    "sys = ring.System.create(\"\"\"\n",
    "<x_xy model=\"double_pendulum\">\n",
    "    <options gravity=\"0 0 9.81\" dt=\"0.01\"/>\n",
    "    <worldbody>\n",
    "        <body name=\"upper\" euler=\"0 90 0\" joint=\"ry\" damping=\"2\" pos=\"0 0 2\">\n",
    "            <geom type=\"box\" mass=\"10\" pos=\"0.5 0 0\" dim=\"1 0.25 0.2\"/>\n",
    "            <body name=\"lower\" pos=\"1 0 0\" joint=\"ry\" damping=\"2\">\n",
    "                <geom type=\"box\" mass=\"10\" pos=\"0.5 0 0\" dim=\"1 0.25 0.2\"/>\n",
    "            </body>\n",
    "        </body>\n",
    "    </worldbody>\n",
    "</x_xy>\n",
    "\"\"\")"
   ]
  },
  {
   "cell_type": "code",
   "execution_count": 4,
   "id": "1c3b2081",
   "metadata": {},
   "outputs": [],
   "source": [
    "viewer = InteractiveViewer(sys)"
   ]
  },
  {
   "cell_type": "markdown",
   "id": "29a7fe54",
   "metadata": {},
   "source": [
    "<img src=\"interactive_viewer1.png\" alt=\"Viewer default pose\" width=\"500\">"
   ]
  },
  {
   "cell_type": "markdown",
   "id": "9025de8e",
   "metadata": {},
   "source": [
    "Notice how this opens the interactive viewer window (where you can use the mouse to navigate, without blocking the main thread). So, we can update the view from this notebook."
   ]
  },
  {
   "cell_type": "code",
   "execution_count": 8,
   "id": "2f870ed1",
   "metadata": {},
   "outputs": [],
   "source": [
    "viewer.update_q(np.array([-np.pi / 2, np.pi / 2]))"
   ]
  },
  {
   "cell_type": "markdown",
   "id": "1ca88bfb",
   "metadata": {},
   "source": [
    "<img src=\"interactive_viewer2.png\" alt=\"Viewer default pose\" width=\"500\">"
   ]
  },
  {
   "cell_type": "markdown",
   "id": "ff2d6645",
   "metadata": {},
   "source": [
    "This is really powerful for creating virtually any animation."
   ]
  },
  {
   "cell_type": "markdown",
   "id": "17f9412a",
   "metadata": {},
   "source": [
    "## Visualising the Motion that results from a `MotionConfig` object"
   ]
  },
  {
   "cell_type": "code",
   "execution_count": 20,
   "id": "35f4f778",
   "metadata": {},
   "outputs": [],
   "source": [
    "sys = ring.io.load_example(\"test_three_seg_seg2\")"
   ]
  },
  {
   "cell_type": "code",
   "execution_count": 28,
   "id": "d4cda1a9",
   "metadata": {},
   "outputs": [
    {
     "name": "stderr",
     "output_type": "stream",
     "text": [
      "executing generators: 100%|██████████| 1/1 [00:02<00:00,  2.95s/it]\n"
     ]
    }
   ],
   "source": [
    "_, (_, q, _, _) = ring.RCMG(sys, ring.MotionConfig(t_min=0.5, t_max=3, delta_ang_min=2, T=10.0, include_standstills_prob=0.2, pos_min_p3d_x=0.0, \n",
    "                                                   pos_min_p3d_y=0.0, pos_min_p3d_z=0.0), keep_output_extras=True).to_list(seed=2)[0]"
   ]
  },
  {
   "cell_type": "code",
   "execution_count": 29,
   "id": "fc56a629",
   "metadata": {},
   "outputs": [],
   "source": [
    "# save the trajectory of minimal coordinates to disk\n",
    "np.save(\"motion1\", q)"
   ]
  },
  {
   "cell_type": "markdown",
   "id": "4554680b",
   "metadata": {},
   "source": [
    "Now, run `ring-view test_three_seg_seg2.xml motion1.np` to view the motion."
   ]
  },
  {
   "cell_type": "code",
   "execution_count": 18,
   "id": "7df614ed",
   "metadata": {},
   "outputs": [
    {
     "name": "stdout",
     "output_type": "stream",
     "text": [
      "(2000, 9)\n"
     ]
    }
   ],
   "source": [
    "print(q.shape)"
   ]
  },
  {
   "cell_type": "code",
   "execution_count": null,
   "id": "fc62d0aa",
   "metadata": {},
   "outputs": [],
   "source": []
  }
 ],
 "metadata": {
  "kernelspec": {
   "display_name": "ring",
   "language": "python",
   "name": "python3"
  },
  "language_info": {
   "codemirror_mode": {
    "name": "ipython",
    "version": 3
   },
   "file_extension": ".py",
   "mimetype": "text/x-python",
   "name": "python",
   "nbconvert_exporter": "python",
   "pygments_lexer": "ipython3",
   "version": "3.12.2"
  }
 },
 "nbformat": 4,
 "nbformat_minor": 5
}
