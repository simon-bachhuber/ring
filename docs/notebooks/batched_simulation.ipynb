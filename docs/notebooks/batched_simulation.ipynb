{
 "cells": [
  {
   "cell_type": "markdown",
   "metadata": {},
   "source": [
    "!!! note\n",
    "\n",
    "    This example is available as a jupyter notebook [here](https://github.com/simon-bachhuber/ring/blob/main/docs/notebooks/batched_simulation.ipynb)."
   ]
  },
  {
   "cell_type": "markdown",
   "metadata": {},
   "source": [
    "## Batched Dynamical Simulation"
   ]
  },
  {
   "cell_type": "markdown",
   "metadata": {},
   "source": [
    "`System` object is a registered Jax-PyTree. This means it's a nested array.\n",
    "\n",
    "This enables us to stack multiple systems (or states) to enable vectorized operations."
   ]
  },
  {
   "cell_type": "markdown",
   "metadata": {},
   "source": [
    "### Batched System\n",
    "\n",
    "I.e. simulating two different system with the same initial state."
   ]
  },
  {
   "cell_type": "code",
   "execution_count": 1,
   "metadata": {},
   "outputs": [],
   "source": [
    "import ring\n",
    "\n",
    "import jax\n",
    "import jax.numpy as jnp\n",
    "\n",
    "\n",
    "xml_str = \"\"\"\n",
    "<x_xy model=\"double_pendulum\">\n",
    "    <options gravity=\"0 0 9.81\" dt=\"0.01\"/>\n",
    "    <worldbody>\n",
    "        <body name=\"upper\" euler=\"0 90 0\" joint=\"ry\" damping=\"2\">\n",
    "            <geom type=\"box\" mass=\"10\" pos=\"0.5 0 0\" dim=\"1 0.25 0.2\"/>\n",
    "            <body name=\"lower\" pos=\"1 0 0\" joint=\"ry\" damping=\"2\">\n",
    "                <geom type=\"box\" mass=\"10\" pos=\"0.5 0 0\" dim=\"1 0.25 0.2\"/>\n",
    "            </body>\n",
    "        </body>\n",
    "    </worldbody>\n",
    "</x_xy>\n",
    "\"\"\"\n",
    "\n",
    "sys = ring.System.create(xml_str)\n",
    "state = ring.State.create(sys)"
   ]
  },
  {
   "cell_type": "code",
   "execution_count": 2,
   "metadata": {},
   "outputs": [],
   "source": [
    "# second system with gravity disabled\n",
    "sys_nograv = sys.replace(gravity = sys.gravity * 0.0)\n",
    "sys_batched = sys.batch(sys_nograv)\n",
    "\n",
    "next_state_batched = jax.vmap(ring.step, in_axes=(0, None))(sys_batched, state)"
   ]
  },
  {
   "cell_type": "code",
   "execution_count": 3,
   "metadata": {},
   "outputs": [
    {
     "data": {
      "text/plain": [
       "Array([[0., 0.],\n",
       "       [0., 0.]], dtype=float32)"
      ]
     },
     "execution_count": 3,
     "metadata": {},
     "output_type": "execute_result"
    }
   ],
   "source": [
    "# note how the state of the system without gravity has not changed at all\n",
    "next_state_batched.q"
   ]
  },
  {
   "cell_type": "markdown",
   "metadata": {},
   "source": [
    "### Batched State"
   ]
  },
  {
   "cell_type": "code",
   "execution_count": 4,
   "metadata": {},
   "outputs": [],
   "source": [
    "second_state = ring.State.create(sys, qd=jnp.ones((2,)))\n",
    "state_batched = state.batch(second_state)\n",
    "next_state_batched = jax.vmap(ring.step, in_axes=(None, 0))(sys, state_batched)"
   ]
  },
  {
   "cell_type": "code",
   "execution_count": 5,
   "metadata": {},
   "outputs": [
    {
     "data": {
      "text/plain": [
       "Array([[0.        , 0.        ],\n",
       "       [0.01004834, 0.00982152]], dtype=float32)"
      ]
     },
     "execution_count": 5,
     "metadata": {},
     "output_type": "execute_result"
    }
   ],
   "source": [
    "next_state_batched.q"
   ]
  },
  {
   "cell_type": "markdown",
   "metadata": {},
   "source": [
    "## Batched Kinematic Simulation"
   ]
  },
  {
   "cell_type": "markdown",
   "metadata": {},
   "source": [
    "Batched kinematic simulation is done by providing the `sizes` argument to `build_generator`"
   ]
  },
  {
   "cell_type": "code",
   "execution_count": 6,
   "metadata": {},
   "outputs": [],
   "source": [
    "batchsize = 8\n",
    "seed = 1\n",
    "gen = ring.RCMG(sys, ring.MotionConfig(T=10.0, t_max=1.5), keep_output_extras=True).to_lazy_gen(batchsize)\n",
    "(X, y), (_, q, x, _) = gen(jax.random.PRNGKey(seed))"
   ]
  },
  {
   "cell_type": "code",
   "execution_count": 7,
   "metadata": {},
   "outputs": [
    {
     "data": {
      "text/plain": [
       "(8, 1000, 2)"
      ]
     },
     "execution_count": 7,
     "metadata": {},
     "output_type": "execute_result"
    }
   ],
   "source": [
    "q.shape"
   ]
  },
  {
   "cell_type": "code",
   "execution_count": null,
   "metadata": {},
   "outputs": [],
   "source": []
  }
 ],
 "metadata": {
  "kernelspec": {
   "display_name": "ring",
   "language": "python",
   "name": "python3"
  },
  "language_info": {
   "codemirror_mode": {
    "name": "ipython",
    "version": 3
   },
   "file_extension": ".py",
   "mimetype": "text/x-python",
   "name": "python",
   "nbconvert_exporter": "python",
   "pygments_lexer": "ipython3",
   "version": "3.12.2"
  },
  "orig_nbformat": 4
 },
 "nbformat": 4,
 "nbformat_minor": 2
}
