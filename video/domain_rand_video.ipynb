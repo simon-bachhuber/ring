{
 "cells": [
  {
   "cell_type": "code",
   "execution_count": 1,
   "metadata": {},
   "outputs": [],
   "source": [
    "import ring\n",
    "import numpy as np\n",
    "import mediapy\n",
    "import qmt\n",
    "import random\n",
    "import jax\n",
    "import ring\n",
    "import matplotlib.pyplot as plt\n",
    "\n",
    "random.seed(1)"
   ]
  },
  {
   "cell_type": "code",
   "execution_count": 2,
   "metadata": {},
   "outputs": [],
   "source": [
    "sys_str = r\"\"\"\n",
    "<x_xy model=\"arm_1Seg\">\n",
    "  <options dt=\"0.01\" gravity=\"0.0 0.0 9.81\"/>\n",
    "  <worldbody>\n",
    "    <geom type=\"xyz\"/>\n",
    "    <body joint=\"free\" name=\"seg3_1Seg\" pos=\"0.4 0.0 0.0\" damping=\"5.0 5.0 5.0 25.0 25.0 25.0\">\n",
    "      <geom pos=\"0.1 0.0 0.0\" mass=\"1.0\" color=\"dustin_exp_blue\" edge_color=\"black\" type=\"box\" dim=\"0.2 0.05 0.05\"/>\n",
    "      <geom pos=\"0.05 0.05 0.0\" mass=\"0.1\" color=\"black\" edge_color=\"black\" type=\"box\" dim=\"0.01 0.1 0.01\"/>\n",
    "      <geom pos=\"0.15 -0.05 0.0\" mass=\"0.1\" color=\"black\" edge_color=\"black\" type=\"box\" dim=\"0.01 0.1 0.01\"/>\n",
    "      <body joint=\"frozen\" name=\"imu3_1Seg\" pos=\"0.099999994 0.0 0.035\" pos_min=\"0.050000012 0 0.035\" pos_max=\"0.15 0 0.035\">\n",
    "        <geom mass=\"0.1\" color=\"dustin_exp_orange\" edge_color=\"black\" type=\"box\" dim=\"0.05 0.03 0.02\"/>\n",
    "      </body>\n",
    "    </body>\n",
    "    <body joint=\"free\" name=\"seg3_2Seg\" pos=\"0.4 0.0 0.0\" damping=\"5.0 5.0 5.0 25.0 25.0 25.0\">\n",
    "      <geom pos=\"0.1 0.0 0.0\" mass=\"1.0\" color=\"dustin_exp_blue\" edge_color=\"black\" type=\"box\" dim=\"0.2 0.05 0.05\"/>\n",
    "      <geom pos=\"0.05 0.05 0.0\" mass=\"0.1\" color=\"black\" edge_color=\"black\" type=\"box\" dim=\"0.01 0.1 0.01\"/>\n",
    "      <geom pos=\"0.15 -0.05 0.0\" mass=\"0.1\" color=\"black\" edge_color=\"black\" type=\"box\" dim=\"0.01 0.1 0.01\"/>\n",
    "      <body joint=\"frozen\" name=\"imu3_2Seg\" pos=\"0.099999994 0.0 0.035\" pos_min=\"0.050000012 0 0.035\" pos_max=\"0.15 0 0.035\">>\n",
    "        <geom mass=\"0.1\" color=\"dustin_exp_orange\" edge_color=\"black\" type=\"box\" dim=\"0.05 0.03 0.02\"/>\n",
    "      </body>\n",
    "      <body joint=\"ry\" name=\"seg4_2Seg\" pos=\"0.20000002 0.0 0.0\" damping=\"3.0\">\n",
    "        <geom pos=\"0.1 0.0 0.0\" mass=\"1.0\" color=\"dustin_exp_white\" edge_color=\"black\" type=\"box\" dim=\"0.2 0.05 0.05\"/>\n",
    "        <geom pos=\"0.1 0.05 0.0\" mass=\"0.1\" color=\"black\" edge_color=\"black\" type=\"box\" dim=\"0.01 0.1 0.01\"/>\n",
    "        <geom pos=\"0.15 -0.05 0.0\" mass=\"0.1\" color=\"black\" edge_color=\"black\" type=\"box\" dim=\"0.01 0.1 0.01\"/>\n",
    "        <body joint=\"frozen\" name=\"imu4_2Seg\" pos=\"0.100000024 0.0 0.035\" pos_min=\"0.050000012 0 0.035\" pos_max=\"0.15 0 0.035\">\n",
    "          <geom mass=\"0.1\" color=\"dustin_exp_orange\" edge_color=\"black\" type=\"box\" dim=\"0.05 0.03 0.02\"/>\n",
    "        </body>\n",
    "      </body>\n",
    "    </body>\n",
    "    <body joint=\"free\" name=\"seg3_3Seg\" pos=\"0.4 0.0 0.0\" damping=\"5.0 5.0 5.0 25.0 25.0 25.0\">\n",
    "      <geom pos=\"0.1 0.0 0.0\" mass=\"1.0\" color=\"dustin_exp_blue\" edge_color=\"black\" type=\"box\" dim=\"0.2 0.05 0.05\"/>\n",
    "      <geom pos=\"0.05 0.05 0.0\" mass=\"0.1\" color=\"black\" edge_color=\"black\" type=\"box\" dim=\"0.01 0.1 0.01\"/>\n",
    "      <geom pos=\"0.15 -0.05 0.0\" mass=\"0.1\" color=\"black\" edge_color=\"black\" type=\"box\" dim=\"0.01 0.1 0.01\"/>\n",
    "      <body joint=\"frozen\" name=\"imu3_3Seg\" pos=\"0.099999994 0.0 0.035\" pos_min=\"0.050000012 0 0.035\" pos_max=\"0.15 0 0.035\">\n",
    "        <geom mass=\"0.1\" color=\"dustin_exp_orange\" edge_color=\"black\" type=\"box\" dim=\"0.05 0.03 0.02\"/>\n",
    "      </body>\n",
    "      <body joint=\"ry\" name=\"seg4_3Seg\" pos=\"0.20000002 0.0 0.0\" damping=\"3.0\">\n",
    "        <geom pos=\"0.1 0.0 0.0\" mass=\"1.0\" color=\"dustin_exp_white\" edge_color=\"black\" type=\"box\" dim=\"0.2 0.05 0.05\"/>\n",
    "        <geom pos=\"0.1 0.05 0.0\" mass=\"0.1\" color=\"black\" edge_color=\"black\" type=\"box\" dim=\"0.01 0.1 0.01\"/>\n",
    "        <geom pos=\"0.15 -0.05 0.0\" mass=\"0.1\" color=\"black\" edge_color=\"black\" type=\"box\" dim=\"0.01 0.1 0.01\"/>\n",
    "        <body joint=\"frozen\" name=\"imu4_3Seg\" pos=\"0.100000024 0.0 0.035\" pos_min=\"0.050000012 0 0.035\" pos_max=\"0.15 0 0.035\">\n",
    "          <geom mass=\"0.1\" color=\"dustin_exp_orange\" edge_color=\"black\" type=\"box\" dim=\"0.05 0.03 0.02\"/>\n",
    "        </body>\n",
    "        <body joint=\"rz\" name=\"seg5_3Seg\" pos=\"0.19999999 0.0 0.0\" damping=\"3.0\">\n",
    "          <geom pos=\"0.1 0.0 0.0\" mass=\"1.0\" color=\"dustin_exp_white\" edge_color=\"black\" type=\"box\" dim=\"0.2 0.05 0.05\"/>\n",
    "          <geom pos=\"0.03 -0.05 0.0\" mass=\"0.1\" color=\"black\" edge_color=\"black\" type=\"box\" dim=\"0.01 0.1 0.01\"/>\n",
    "          <geom pos=\"0.17 -0.05 0.0\" mass=\"0.1\" color=\"black\" edge_color=\"black\" type=\"box\" dim=\"0.01 0.1 0.01\"/>\n",
    "          <body joint=\"frozen\" name=\"imu5_3Seg\" pos=\"0.100000024 0.0 0.035\" pos_min=\"0.050000012 0 0.035\" pos_max=\"0.15 0 0.035\">\n",
    "            <geom mass=\"0.1\" color=\"dustin_exp_orange\" edge_color=\"black\" type=\"box\" dim=\"0.05 0.03 0.02\"/>\n",
    "          </body>\n",
    "        </body>\n",
    "      </body>\n",
    "    </body>\n",
    "    <body joint=\"free\" name=\"seg2_4Seg\" pos=\"0.2 0.0 0.0\" damping=\"5.0 5.0 5.0 25.0 25.0 25.0\">\n",
    "      <geom pos=\"0.1 0.0 0.0\" mass=\"1.0\" color=\"dustin_exp_white\" edge_color=\"black\" type=\"box\" dim=\"0.2 0.05 0.05\"/>\n",
    "      <geom pos=\"0.03 -0.05 0.0\" mass=\"0.1\" color=\"dustin_exp_white\" edge_color=\"black\" type=\"box\" dim=\"0.01 0.1 0.01\"/>\n",
    "      <geom pos=\"0.17 -0.05 0.0\" mass=\"0.1\" color=\"dustin_exp_white\" edge_color=\"black\" type=\"box\" dim=\"0.01 0.1 0.01\"/>\n",
    "      <body joint=\"frozen\" name=\"imu2_4Seg\" pos=\"0.10000001 0.0 0.035\" pos_min=\"0.050000012 0 0.035\" pos_max=\"0.15 0 0.035\">\n",
    "        <geom mass=\"0.1\" color=\"dustin_exp_orange\" edge_color=\"black\" type=\"box\" dim=\"0.05 0.03 0.02\"/>\n",
    "      </body>\n",
    "      <body joint=\"rx\" name=\"seg3_4Seg\" pos=\"0.2 0.0 0.0\" damping=\"3.0\">\n",
    "        <geom pos=\"0.1 0.0 0.0\" mass=\"1.0\" color=\"dustin_exp_blue\" edge_color=\"black\" type=\"box\" dim=\"0.2 0.05 0.05\"/>\n",
    "        <geom pos=\"0.05 0.05 0.0\" mass=\"0.1\" color=\"black\" edge_color=\"black\" type=\"box\" dim=\"0.01 0.1 0.01\"/>\n",
    "        <geom pos=\"0.15 -0.05 0.0\" mass=\"0.1\" color=\"black\" edge_color=\"black\" type=\"box\" dim=\"0.01 0.1 0.01\"/>\n",
    "        <body joint=\"frozen\" name=\"imu3_4Seg\" pos=\"0.099999994 0.0 0.035\" pos_min=\"0.050000012 0 0.035\" pos_max=\"0.15 0 0.035\">\n",
    "          <geom mass=\"0.1\" color=\"dustin_exp_orange\" edge_color=\"black\" type=\"box\" dim=\"0.05 0.03 0.02\"/>\n",
    "        </body>\n",
    "        <body joint=\"ry\" name=\"seg4_4Seg\" pos=\"0.20000002 0.0 0.0\" damping=\"3.0\">\n",
    "          <geom pos=\"0.1 0.0 0.0\" mass=\"1.0\" color=\"dustin_exp_white\" edge_color=\"black\" type=\"box\" dim=\"0.2 0.05 0.05\"/>\n",
    "          <geom pos=\"0.1 0.05 0.0\" mass=\"0.1\" color=\"black\" edge_color=\"black\" type=\"box\" dim=\"0.01 0.1 0.01\"/>\n",
    "          <geom pos=\"0.15 -0.05 0.0\" mass=\"0.1\" color=\"black\" edge_color=\"black\" type=\"box\" dim=\"0.01 0.1 0.01\"/>\n",
    "          <body joint=\"frozen\" name=\"imu4_4Seg\" pos=\"0.100000024 0.0 0.035\" pos_min=\"0.050000012 0 0.035\" pos_max=\"0.15 0 0.035\">\n",
    "            <geom mass=\"0.1\" color=\"dustin_exp_orange\" edge_color=\"black\" type=\"box\" dim=\"0.05 0.03 0.02\"/>\n",
    "          </body>\n",
    "          <body joint=\"rz\" name=\"seg5_4Seg\" pos=\"0.19999999 0.0 0.0\" damping=\"3.0\">\n",
    "            <geom pos=\"0.1 0.0 0.0\" mass=\"1.0\" color=\"dustin_exp_white\" edge_color=\"black\" type=\"box\" dim=\"0.2 0.05 0.05\"/>\n",
    "            <geom pos=\"0.03 -0.05 0.0\" mass=\"0.1\" color=\"black\" edge_color=\"black\" type=\"box\" dim=\"0.01 0.1 0.01\"/>\n",
    "            <geom pos=\"0.17 -0.05 0.0\" mass=\"0.1\" color=\"black\" edge_color=\"black\" type=\"box\" dim=\"0.01 0.1 0.01\"/>\n",
    "            <body joint=\"frozen\" name=\"imu5_4Seg\" pos=\"0.100000024 0.0 0.035\" pos_min=\"0.050000012 0 0.035\" pos_max=\"0.15 0 0.035\">\n",
    "              <geom mass=\"0.1\" color=\"dustin_exp_orange\" edge_color=\"black\" type=\"box\" dim=\"0.05 0.03 0.02\"/>\n",
    "            </body>\n",
    "          </body>\n",
    "        </body>\n",
    "      </body>\n",
    "    </body>\n",
    "  </worldbody>\n",
    "</x_xy>\n",
    "\"\"\""
   ]
  },
  {
   "cell_type": "code",
   "execution_count": 3,
   "metadata": {},
   "outputs": [],
   "source": [
    "sys = ring.System.create(sys_str)\n",
    "sys2 = sys.delete_system([\"seg3_1Seg\", \"seg3_3Seg\", \"seg2_4Seg\"])\n",
    "sys3 = sys.delete_system([\"seg3_1Seg\", \"seg3_2Seg\", \"seg2_4Seg\"])\n",
    "sys4 = sys.delete_system([\"seg3_1Seg\", \"seg3_2Seg\", \"seg3_3Seg\"])"
   ]
  },
  {
   "cell_type": "code",
   "execution_count": 4,
   "metadata": {},
   "outputs": [],
   "source": [
    "i = 0\n",
    "main = sys2.add_prefix_suffix(suffix=\"_0\")\n",
    "\n",
    "dx, dy, dz = 1.5, 1.5, 1.5\n",
    "\n",
    "m = ring.MotionConfig(\n",
    "        t_min=0.4,\n",
    "        t_max=1.1,\n",
    "        dang_max=np.deg2rad(180),\n",
    "        delta_ang_min=np.deg2rad(60),\n",
    "        delta_ang_max=np.deg2rad(110),\n",
    "        pos_min_p3d_x=0,\n",
    "        pos_max_p3d_x=dx,\n",
    "        pos_min_p3d_y=0,\n",
    "        pos_max_p3d_y=dy,\n",
    "        pos_min_p3d_z=0,\n",
    "        pos_max_p3d_z=dz,\n",
    "        pos0_min_p3d_x=dx/2,\n",
    "        pos0_max_p3d_x=dx/2,\n",
    "        pos0_min_p3d_y=dy/2,\n",
    "        pos0_max_p3d_y=dy/2,\n",
    "        pos0_min_p3d_z=dz/2,\n",
    "        pos0_max_p3d_z=dz/2,\n",
    "        range_of_motion_hinge_method=\"sigmoid\",\n",
    "        T=30\n",
    "    )\n",
    "\n",
    "\n",
    "for xi in range(3):\n",
    "    for yi in range(3):\n",
    "        for zi in range(2):\n",
    "            if xi == yi == zi == 0:\n",
    "                continue\n",
    "\n",
    "            i += 1\n",
    "\n",
    "            other = random.choice([sys2, sys3, sys4])\n",
    "            n_imus = len(other.findall_imus())\n",
    "            if n_imus == 2:\n",
    "                pass\n",
    "            elif n_imus == 3:\n",
    "                if random.choice([True, False]):\n",
    "                    other = other.delete_system([\"imu4_3Seg\"])\n",
    "            elif n_imus == 4:\n",
    "                delete = random.choice([None, [\"imu3_4Seg\"], [\"imu4_4Seg\"], [\"imu3_4Seg\", \"imu4_4Seg\"]])\n",
    "                if delete is not None:\n",
    "                    other = other.delete_system(delete)\n",
    "            else:\n",
    "                raise Exception()\n",
    "\n",
    "            other = other.add_prefix_suffix(suffix=f\"_{i}\")\n",
    "            main = main.inject_system(other)\n",
    "            main = m.overwrite_for_subsystem(main, other.find_body_to_world(True), \n",
    "                                        pos_min_p3d_x=xi*dx,\n",
    "                                        pos_max_p3d_x=(xi+1)*dx,\n",
    "                                        pos_min_p3d_y=yi*dy,\n",
    "                                        pos_max_p3d_y=(yi+1)*dy,\n",
    "                                        pos_min_p3d_z=zi*dz,\n",
    "                                        pos_max_p3d_z=(zi+1)*dz,\n",
    "                                        pos0_min_p3d_x=(xi+0.5)*dx,\n",
    "                                        pos0_max_p3d_x=(xi+0.5)*dx,\n",
    "                                        pos0_min_p3d_y=(yi+0.5)*dy,\n",
    "                                        pos0_max_p3d_y=(yi+0.5)*dy,\n",
    "                                        pos0_min_p3d_z=(zi+0.5)*dz,\n",
    "                                        pos0_max_p3d_z=(zi+0.5)*dz)"
   ]
  },
  {
   "cell_type": "code",
   "execution_count": null,
   "metadata": {},
   "outputs": [
    {
     "name": "stderr",
     "output_type": "stream",
     "text": [
      "executing generators:   0%|          | 0/1 [00:00<?, ?it/s]2024-11-05 21:28:43.207538: E external/xla/xla/service/slow_operation_alarm.cc:65] \n",
      "********************************\n",
      "[Compiling module jit_scan] Very slow compile? If you want to file a bug, run with envvar XLA_FLAGS=--xla_dump_to=/tmp/foo and attach the results.\n",
      "********************************\n",
      "2024-11-05 21:48:23.666247: E external/xla/xla/service/slow_operation_alarm.cc:133] The operation took 21m40.467939s\n",
      "\n",
      "********************************\n",
      "[Compiling module jit_scan] Very slow compile? If you want to file a bug, run with envvar XLA_FLAGS=--xla_dump_to=/tmp/foo and attach the results.\n",
      "********************************\n",
      "executing generators: 100%|██████████| 1/1 [1:22:20<00:00, 4940.97s/it]\n"
     ]
    }
   ],
   "source": [
    "(X_d, y_d), (_, q, x, _) = ring.RCMG(main, m, keep_output_extras=True, add_X_imus=True,\n",
    "                            add_X_jointaxes=True, use_link_number_in_Xy=True, add_y_relpose=True, add_y_rootfull=True,\n",
    "                                    dynamic_simulation=False,\n",
    "                            imu_motion_artifacts=False,\n",
    "                            randomize_motion_artifacts=False,\n",
    "                            randomize_positions=True,\n",
    "                            imu_motion_artifacts_kwargs=dict(\n",
    "                                prob_rigid=0.5,\n",
    "                                pos_min_max=0.0,\n",
    "                                disable_warning=True,\n",
    "                            ),).to_list(seed=2)[0]"
   ]
  },
  {
   "cell_type": "code",
   "execution_count": 6,
   "metadata": {},
   "outputs": [],
   "source": [
    "X, y = ring.algorithms.generator.finalize_fns._expand_then_flatten((X_d, y_d))"
   ]
  },
  {
   "cell_type": "code",
   "execution_count": 22,
   "metadata": {},
   "outputs": [],
   "source": [
    "ringnet = ring.RING(main.make_sys_noimu()[0].link_parents, 0.01)\n",
    "params, _ = ringnet.init(1, X[None], ringnet.search_attr(\"lam\"), 1)"
   ]
  },
  {
   "cell_type": "code",
   "execution_count": 23,
   "metadata": {},
   "outputs": [],
   "source": [
    "yhat, _ = ringnet.apply(X=X, y=y, params=params)"
   ]
  },
  {
   "cell_type": "code",
   "execution_count": 24,
   "metadata": {},
   "outputs": [
    {
     "name": "stderr",
     "output_type": "stream",
     "text": [
      "Rendering frames..: 100%|██████████| 750/750 [00:34<00:00, 21.71it/s]\n"
     ]
    }
   ],
   "source": [
    "mediapy.write_video(\"domain_rand_video_untrained.mp4\", main.render_prediction(x, yhat, transparent_segment_to_root=False, render_every_nth=4, \n",
    "                                          width=3840, height=2160, camera='c', \n",
    "                               add_cameras={-1: '<camera pos=\"-0.593 -1.657 5\" xyaxes=\"0.760 -0.649 -0.000 0.433 0.507 0.745\" name=\"c\"/>'},\n",
    "                               add_lights={-1: '<light pos=\"2 2 20\" dir=\"0 0 -1\"/>'}\n",
    "                               ), fps=25)\n",
    "                   \n"
   ]
  },
  {
   "cell_type": "code",
   "execution_count": null,
   "metadata": {},
   "outputs": [],
   "source": []
  },
  {
   "cell_type": "code",
   "execution_count": null,
   "metadata": {},
   "outputs": [],
   "source": []
  }
 ],
 "metadata": {
  "kernelspec": {
   "display_name": "ring",
   "language": "python",
   "name": "python3"
  },
  "language_info": {
   "codemirror_mode": {
    "name": "ipython",
    "version": 3
   },
   "file_extension": ".py",
   "mimetype": "text/x-python",
   "name": "python",
   "nbconvert_exporter": "python",
   "pygments_lexer": "ipython3",
   "version": "3.12.2"
  }
 },
 "nbformat": 4,
 "nbformat_minor": 2
}
